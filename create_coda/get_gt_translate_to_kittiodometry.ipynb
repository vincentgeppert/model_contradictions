{
 "cells": [
  {
   "cell_type": "markdown",
   "metadata": {},
   "source": [
    "### Get CODA ground truth and translate to KITTIodometry (runtime: ~ 35min)"
   ]
  },
  {
   "cell_type": "code",
   "execution_count": 2,
   "metadata": {},
   "outputs": [],
   "source": [
    "import matplotlib.pyplot as plt\n",
    "import matplotlib.colors as col\n",
    "from mpl_toolkits.mplot3d import Axes3D\n",
    "import json\n",
    "import os\n",
    "import numpy as np\n",
    "from tqdm import tqdm"
   ]
  },
  {
   "cell_type": "markdown",
   "metadata": {},
   "source": [
    "#### Set paths\n",
    "<div class=\"alert alert-block alert-warning\">\n",
    "<h4>ToDo:</h4>\n",
    "<ol>\n",
    "    <li> Set \"coda_root\" to the root of your <b>CODA directory</b>\n",
    "    <li> Set \"log_finn_root\" to the root of your <b>inference directory</b>\n",
    "</ol>\n",
    "</div>"
   ]
  },
  {
   "cell_type": "code",
   "execution_count": 3,
   "metadata": {},
   "outputs": [],
   "source": [
    "coda_root = f'/disk/ml/own_datasets/CODA'\n",
    "log_finn_root = f'/disk/vanishing_data/ju878/log_finn/'"
   ]
  },
  {
   "cell_type": "code",
   "execution_count": 4,
   "metadata": {},
   "outputs": [],
   "source": [
    "model_root = os.path.realpath('../../model_contradictions/')\n",
    "create_coda_root = os.path.join(model_root, 'create_coda')\n",
    "\n",
    "lidar_clustering_folder = os.path.join(coda_root, 'lidar_clustering')\n",
    "lidar_labels_folder = os.path.join(coda_root, 'lidar_labels')\n",
    "lidar_labels_annotation_folder = os.path.join(coda_root, 'lidar_labels_annotation')\n",
    "annotation_validation = os.path.join(create_coda_root, 'annotation_validation')\n",
    "json_cornercases = os.path.join(coda_root, 'corner_case.json')\n",
    "original_labels = os.path.join(log_finn_root, 'original_labels')\n",
    "original_labels_annotation = os.path.join(log_finn_root, 'original_labels_annotation')"
   ]
  },
  {
   "cell_type": "code",
   "execution_count": 5,
   "metadata": {},
   "outputs": [],
   "source": [
    "if not os.path.exists(original_labels):\n",
    "    os.makedirs(original_labels)\n",
    "if not os.path.exists(original_labels_annotation):\n",
    "    os.makedirs(original_labels_annotation)\n",
    "if not os.path.exists(lidar_labels_folder):\n",
    "    os.makedirs(lidar_labels_folder)\n",
    "if not os.path.exists(lidar_labels_annotation_folder):\n",
    "    os.makedirs(lidar_labels_annotation_folder)\n",
    "\n",
    "with open(annotation_validation, 'r') as f:\n",
    "    anno_valid = f.read().splitlines()\n",
    "    \n",
    "with open(json_cornercases, 'r') as f:\n",
    "    data_cornercases = json.load(f)\n",
    "\n",
    "images = data_cornercases['images']\n",
    "annotations = data_cornercases['annotations']"
   ]
  },
  {
   "cell_type": "markdown",
   "metadata": {},
   "source": [
    "#### Functions to translate manual inspection into labels"
   ]
  },
  {
   "cell_type": "markdown",
   "metadata": {},
   "source": [
    "Save points to coda_root in original format, and to original_labels in inference directory in KITTIodometry format"
   ]
  },
  {
   "cell_type": "code",
   "execution_count": 6,
   "metadata": {},
   "outputs": [],
   "source": [
    "def save_points_image(points_kitti, points, image_id):\n",
    "    points_kitti.astype('float32').tofile(os.path.join(original_labels, image_id + '.bin'))\n",
    "    points.astype('float32').tofile(os.path.join(lidar_labels_folder, image_id + '.bin'))\n",
    "\n",
    "def save_points_annotation(points_kitti, points, annotation_id):\n",
    "    points_kitti.astype('float32').tofile(os.path.join(original_labels_annotation, annotation_id + '.bin'))\n",
    "    points.astype('float32').tofile(os.path.join(lidar_labels_annotation_folder, annotation_id + '.bin'))"
   ]
  },
  {
   "cell_type": "markdown",
   "metadata": {},
   "source": [
    "Rotate the point clouds"
   ]
  },
  {
   "cell_type": "code",
   "execution_count": 7,
   "metadata": {},
   "outputs": [],
   "source": [
    "def rotate_nuscenes(points):\n",
    "    new_points = np.zeros_like(points)\n",
    "    new_points[:, 1] = -points[:, 0]\n",
    "    new_points[:, 0] = points[:, 1]\n",
    "    new_points[:, 2] = points[:, 2]\n",
    "    \n",
    "    return new_points[:, :3]\n",
    "    \n",
    "def rotate_once(points):\n",
    "    new_points = np.zeros_like(points)\n",
    "    new_points[:, 1] = points[:, 0]\n",
    "    new_points[:, 0] = -points[:, 1]\n",
    "    new_points[:, 2] = points[:, 2]\n",
    "    \n",
    "    return new_points[:, :3]"
   ]
  },
  {
   "cell_type": "markdown",
   "metadata": {},
   "source": [
    "Load lidar data with labels and manual inspection clustering"
   ]
  },
  {
   "cell_type": "code",
   "execution_count": 13,
   "metadata": {},
   "outputs": [],
   "source": [
    "def get_lidar_and_clustering(annotation):\n",
    "    annotation_id = annotation['id']\n",
    "    annotation_path = os.path.join(lidar_clustering_folder, str(annotation_id) + '.bin')\n",
    "    clustering = anno_valid[annotation_id - 1]\n",
    "    \n",
    "    points = np.fromfile(annotation_path, dtype=np.float32).reshape((-1, 7))\n",
    "     \n",
    "    return points, clustering"
   ]
  },
  {
   "cell_type": "markdown",
   "metadata": {},
   "source": [
    "Set labels according to manual inspection"
   ]
  },
  {
   "cell_type": "code",
   "execution_count": 9,
   "metadata": {},
   "outputs": [],
   "source": [
    "def set_labels(points, clustering):\n",
    "    labels = np.ones((points.shape[0], 1))\n",
    "    if clustering == 1:\n",
    "        # set dbscan\n",
    "        labels[:, 0] = points[:, 4]\n",
    "    elif clustering == 2:\n",
    "        # set mean shift\n",
    "        labels[:, 0] = points[:, 6]\n",
    "    elif clustering == 3:\n",
    "        # set dbscan\n",
    "        labels[:, 0] = points[:, 4]\n",
    "    elif clustering == 4:\n",
    "        # set combined dbscan and mean shift\n",
    "        for index, point in enumerate(points):\n",
    "            if point[4] == 1 or point[6] == 1:\n",
    "                labels[index, 0] = 1\n",
    "            else:\n",
    "                labels[index, 0] = -1\n",
    "    elif clustering == 5:\n",
    "        # set negated dbscan\n",
    "        labels[:, 0] = -points[:, 4]\n",
    "    elif clustering == 6:\n",
    "        # keep all points as 1\n",
    "        labels = labels\n",
    "    elif clustering == 7:\n",
    "        # keep all points as 1\n",
    "        labels = labels\n",
    "    elif clustering == 8:\n",
    "        # set negated mean shift\n",
    "        labels[:, 0] = -points[:, 6]\n",
    "    elif clustering == 9:\n",
    "        # keep all points as 1\n",
    "        labels = labels\n",
    "    return np.hstack([points[:, :3], labels])"
   ]
  },
  {
   "cell_type": "markdown",
   "metadata": {},
   "source": [
    "Handle dublicates"
   ]
  },
  {
   "cell_type": "code",
   "execution_count": 10,
   "metadata": {},
   "outputs": [],
   "source": [
    "def handle_dublicates(annotations_in_lidar):\n",
    "    unique_rows, indices = np.unique(annotations_in_lidar, axis=0, return_index=True)\n",
    "    # Filter all dublicates\n",
    "    annotations_in_lidar_unique = annotations_in_lidar[np.sort(indices)]\n",
    "    \n",
    "    for index, annotation_1 in enumerate(annotations_in_lidar_unique):\n",
    "        # if label already 1 skip\n",
    "        if annotation_1[3] == 1:\n",
    "            continue\n",
    "        else:\n",
    "            for annotation_2 in annotations_in_lidar:\n",
    "                # if label is -1 in unique, check if there is a 1 label for this point in original array\n",
    "                if annotation_1[0] == annotation_2[0] and annotation_1[1] == annotation_2[1] and annotation_1[2] == annotation_2[2] and annotation_2[3] == 1:\n",
    "                    annotations_in_lidar_unique[index, 3] == 1\n",
    "    return annotations_in_lidar_unique\n",
    "    "
   ]
  },
  {
   "cell_type": "markdown",
   "metadata": {},
   "source": [
    "#### Create labeled point clouds for each image and each annotation\n",
    "Containing all points inside the 2D bounding boxes labeled as -1: no anomaly or 1: anomaly"
   ]
  },
  {
   "cell_type": "markdown",
   "metadata": {},
   "source": [
    "Create labeled point clouds for each image (runtime: ~ 15min)"
   ]
  },
  {
   "cell_type": "code",
   "execution_count": 10,
   "metadata": {},
   "outputs": [
    {
     "name": "stderr",
     "output_type": "stream",
     "text": [
      "100%|██████████| 1500/1500 [12:25<00:00,  2.01it/s]  \n"
     ]
    }
   ],
   "source": [
    "for image in tqdm(images):\n",
    "    id = image['id']\n",
    "    file_name = image['file_name'].split('.')[0]\n",
    "    prefix, name = file_name.split('_')\n",
    "    annotations_in_image = []\n",
    "    annotations_in_lidar = np.array([-1,-1,-1,-1])\n",
    "    \n",
    "    for annotation in annotations:\n",
    "        if(annotation['image_id']) == id:\n",
    "            annotations_in_image.append(annotation)\n",
    "    \n",
    "    if prefix == 'kitti':\n",
    "        for annotation in annotations_in_image:\n",
    "            points, clustering = get_lidar_and_clustering(annotation)\n",
    "            points = set_labels(points, int(clustering))\n",
    "            annotations_in_lidar = np.vstack([annotations_in_lidar, points])\n",
    "        annotations_in_lidar = handle_dublicates(annotations_in_lidar)\n",
    "        annotations_in_lidar_kitti = np.copy(annotations_in_lidar)\n",
    "        save_points_image(annotations_in_lidar_kitti, annotations_in_lidar, '{0:04d}'.format(int(id)))\n",
    "        \n",
    "    elif prefix == 'nuscenes':\n",
    "        for annotation in annotations_in_image:\n",
    "            points, clustering = get_lidar_and_clustering(annotation)\n",
    "            points = set_labels(points, int(clustering))\n",
    "            annotations_in_lidar = np.vstack([annotations_in_lidar, points])\n",
    "        annotations_in_lidar = handle_dublicates(annotations_in_lidar)\n",
    "        annotations_in_lidar_kitti = np.copy(annotations_in_lidar)\n",
    "        annotations_in_lidar_kitti[:, :3] = rotate_nuscenes(annotations_in_lidar)\n",
    "        save_points_image(annotations_in_lidar_kitti, annotations_in_lidar, '{0:04d}'.format(int(id)))\n",
    "    else:\n",
    "        for annotation in annotations_in_image:\n",
    "            points, clustering = get_lidar_and_clustering(annotation)\n",
    "            points = set_labels(points, int(clustering))\n",
    "            annotations_in_lidar = np.vstack([annotations_in_lidar, points])\n",
    "        annotations_in_lidar = handle_dublicates(annotations_in_lidar)\n",
    "        annotations_in_lidar_kitti = np.copy(annotations_in_lidar)\n",
    "        annotations_in_lidar_kitti[:, :3] = rotate_once(annotations_in_lidar)\n",
    "        save_points_image(annotations_in_lidar_kitti, annotations_in_lidar, '{0:04d}'.format(int(id)))"
   ]
  },
  {
   "cell_type": "markdown",
   "metadata": {},
   "source": [
    "Create labeled point clouds for each annotation (runtime: ~ 20min)"
   ]
  },
  {
   "cell_type": "code",
   "execution_count": null,
   "metadata": {},
   "outputs": [],
   "source": [
    "for annotation in tqdm(annotations):\n",
    "    id = annotation['id']\n",
    "    annotations_in_lidar = np.array([-1,-1,-1,-1])\n",
    "    \n",
    "    if id > 4413 and id <= 4812:\n",
    "        points, clustering = get_lidar_and_clustering(annotation)\n",
    "        points = set_labels(points, int(clustering))\n",
    "        annotations_in_lidar = np.vstack([annotations_in_lidar, points])\n",
    "        annotations_in_lidar_kitti = np.copy(annotations_in_lidar)\n",
    "        save_points_annotation(annotations_in_lidar_kitti, annotations_in_lidar, '{0:04d}'.format(int(id)))\n",
    "        \n",
    "    elif id > 4812:\n",
    "        points, clustering = get_lidar_and_clustering(annotation)\n",
    "        points = set_labels(points, int(clustering))\n",
    "        annotations_in_lidar = np.vstack([annotations_in_lidar, points])\n",
    "        annotations_in_lidar_kitti = np.copy(annotations_in_lidar)\n",
    "        annotations_in_lidar_kitti[:, :3] = rotate_nuscenes(annotations_in_lidar)\n",
    "        save_points_annotation(annotations_in_lidar_kitti, annotations_in_lidar, '{0:04d}'.format(int(id)))\n",
    "    elif id <= 4413:\n",
    "        points, clustering = get_lidar_and_clustering(annotation)\n",
    "        points = set_labels(points, int(clustering))\n",
    "        annotations_in_lidar = np.vstack([annotations_in_lidar, points])\n",
    "        annotations_in_lidar_kitti = np.copy(annotations_in_lidar)\n",
    "        annotations_in_lidar_kitti[:, :3] = rotate_once(annotations_in_lidar)\n",
    "        print(annotations_in_lidar_kitti)\n",
    "        save_points_annotation(annotations_in_lidar_kitti, annotations_in_lidar, '{0:04d}'.format(int(id)))"
   ]
  }
 ],
 "metadata": {
  "kernelspec": {
   "display_name": "Python 3",
   "language": "python",
   "name": "python3"
  },
  "language_info": {
   "codemirror_mode": {
    "name": "ipython",
    "version": 3
   },
   "file_extension": ".py",
   "mimetype": "text/x-python",
   "name": "python",
   "nbconvert_exporter": "python",
   "pygments_lexer": "ipython3",
   "version": "3.8.10"
  },
  "orig_nbformat": 4
 },
 "nbformat": 4,
 "nbformat_minor": 2
}
